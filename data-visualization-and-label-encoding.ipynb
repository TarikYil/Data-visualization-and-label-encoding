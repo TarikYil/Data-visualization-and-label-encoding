{
 "cells": [
  {
   "cell_type": "code",
   "execution_count": 1,
   "id": "01b83305",
   "metadata": {
    "_cell_guid": "b1076dfc-b9ad-4769-8c92-a6c4dae69d19",
    "_uuid": "8f2839f25d086af736a60e9eeb907d3b93b6e0e5",
    "execution": {
     "iopub.execute_input": "2023-02-26T10:56:27.965437Z",
     "iopub.status.busy": "2023-02-26T10:56:27.964365Z",
     "iopub.status.idle": "2023-02-26T10:56:29.398211Z",
     "shell.execute_reply": "2023-02-26T10:56:29.396704Z"
    },
    "papermill": {
     "duration": 1.446398,
     "end_time": "2023-02-26T10:56:29.401272",
     "exception": false,
     "start_time": "2023-02-26T10:56:27.954874",
     "status": "completed"
    },
    "tags": []
   },
   "outputs": [
    {
     "name": "stdout",
     "output_type": "stream",
     "text": [
      "/kaggle/input/fatal-police-shootings-in-the-us/PercentagePeopleBelowPovertyLevel.csv\n",
      "/kaggle/input/fatal-police-shootings-in-the-us/PoliceKillingsUS.csv\n",
      "/kaggle/input/fatal-police-shootings-in-the-us/MedianHouseholdIncome2015.csv\n",
      "/kaggle/input/fatal-police-shootings-in-the-us/PercentOver25CompletedHighSchool.csv\n",
      "/kaggle/input/fatal-police-shootings-in-the-us/ShareRaceByCity.csv\n"
     ]
    }
   ],
   "source": [
    "# This Python 3 environment comes with many helpful analytics libraries installed\n",
    "# It is defined by the kaggle/python Docker image: https://github.com/kaggle/docker-python\n",
    "# For example, here's several helpful packages to load\n",
    "\n",
    "import numpy as np # linear algebra\n",
    "import pandas as pd # data processing, CSV file I/O (e.g. pd.read_csv)\n",
    "import seaborn as sns\n",
    "import matplotlib.pyplot as plt\n",
    "from sklearn import preprocessing\n",
    "\n",
    "# Input data files are available in the read-only \"../input/\" directory\n",
    "# For example, running this (by clicking run or pressing Shift+Enter) will list all files under the input directory\n",
    "\n",
    "import os\n",
    "for dirname, _, filenames in os.walk('/kaggle/input'):\n",
    "    for filename in filenames:\n",
    "        print(os.path.join(dirname, filename))\n",
    "\n",
    "# You can write up to 20GB to the current directory (/kaggle/working/) that gets preserved as output when you create a version using \"Save & Run All\" \n",
    "# You can also write temporary files to /kaggle/temp/, but they won't be saved outside of the current session"
   ]
  },
  {
   "cell_type": "markdown",
   "id": "395a6856",
   "metadata": {
    "papermill": {
     "duration": 0.006708,
     "end_time": "2023-02-26T10:56:29.414845",
     "exception": false,
     "start_time": "2023-02-26T10:56:29.408137",
     "status": "completed"
    },
    "tags": []
   },
   "source": [
    "# **Analyzes and adjustments were made according to the \"gender\" variable in the data set. Missing data were identified and adjustments were made. The categorized variables were visualized.**"
   ]
  },
  {
   "cell_type": "code",
   "execution_count": 2,
   "id": "f1ea04fe",
   "metadata": {
    "execution": {
     "iopub.execute_input": "2023-02-26T10:56:29.430724Z",
     "iopub.status.busy": "2023-02-26T10:56:29.430111Z",
     "iopub.status.idle": "2023-02-26T10:56:29.435127Z",
     "shell.execute_reply": "2023-02-26T10:56:29.434253Z"
    },
    "papermill": {
     "duration": 0.015871,
     "end_time": "2023-02-26T10:56:29.437352",
     "exception": false,
     "start_time": "2023-02-26T10:56:29.421481",
     "status": "completed"
    },
    "tags": []
   },
   "outputs": [],
   "source": [
    "pd.set_option(\"display.max_columns\", None)\n",
    "pd.set_option(\"display.width\",500)"
   ]
  },
  {
   "cell_type": "code",
   "execution_count": 3,
   "id": "8c000d61",
   "metadata": {
    "execution": {
     "iopub.execute_input": "2023-02-26T10:56:29.453026Z",
     "iopub.status.busy": "2023-02-26T10:56:29.452579Z",
     "iopub.status.idle": "2023-02-26T10:56:29.518915Z",
     "shell.execute_reply": "2023-02-26T10:56:29.517588Z"
    },
    "papermill": {
     "duration": 0.07739,
     "end_time": "2023-02-26T10:56:29.521541",
     "exception": false,
     "start_time": "2023-02-26T10:56:29.444151",
     "status": "completed"
    },
    "tags": []
   },
   "outputs": [
    {
     "data": {
      "text/html": [
       "<div>\n",
       "<style scoped>\n",
       "    .dataframe tbody tr th:only-of-type {\n",
       "        vertical-align: middle;\n",
       "    }\n",
       "\n",
       "    .dataframe tbody tr th {\n",
       "        vertical-align: top;\n",
       "    }\n",
       "\n",
       "    .dataframe thead th {\n",
       "        text-align: right;\n",
       "    }\n",
       "</style>\n",
       "<table border=\"1\" class=\"dataframe\">\n",
       "  <thead>\n",
       "    <tr style=\"text-align: right;\">\n",
       "      <th></th>\n",
       "      <th>id</th>\n",
       "      <th>name</th>\n",
       "      <th>date</th>\n",
       "      <th>manner_of_death</th>\n",
       "      <th>armed</th>\n",
       "      <th>age</th>\n",
       "      <th>gender</th>\n",
       "      <th>race</th>\n",
       "      <th>city</th>\n",
       "      <th>state</th>\n",
       "      <th>signs_of_mental_illness</th>\n",
       "      <th>threat_level</th>\n",
       "      <th>flee</th>\n",
       "      <th>body_camera</th>\n",
       "    </tr>\n",
       "  </thead>\n",
       "  <tbody>\n",
       "    <tr>\n",
       "      <th>0</th>\n",
       "      <td>3</td>\n",
       "      <td>Tim Elliot</td>\n",
       "      <td>02/01/15</td>\n",
       "      <td>shot</td>\n",
       "      <td>gun</td>\n",
       "      <td>53.0</td>\n",
       "      <td>M</td>\n",
       "      <td>A</td>\n",
       "      <td>Shelton</td>\n",
       "      <td>WA</td>\n",
       "      <td>True</td>\n",
       "      <td>attack</td>\n",
       "      <td>Not fleeing</td>\n",
       "      <td>False</td>\n",
       "    </tr>\n",
       "    <tr>\n",
       "      <th>1</th>\n",
       "      <td>4</td>\n",
       "      <td>Lewis Lee Lembke</td>\n",
       "      <td>02/01/15</td>\n",
       "      <td>shot</td>\n",
       "      <td>gun</td>\n",
       "      <td>47.0</td>\n",
       "      <td>M</td>\n",
       "      <td>W</td>\n",
       "      <td>Aloha</td>\n",
       "      <td>OR</td>\n",
       "      <td>False</td>\n",
       "      <td>attack</td>\n",
       "      <td>Not fleeing</td>\n",
       "      <td>False</td>\n",
       "    </tr>\n",
       "    <tr>\n",
       "      <th>2</th>\n",
       "      <td>5</td>\n",
       "      <td>John Paul Quintero</td>\n",
       "      <td>03/01/15</td>\n",
       "      <td>shot and Tasered</td>\n",
       "      <td>unarmed</td>\n",
       "      <td>23.0</td>\n",
       "      <td>M</td>\n",
       "      <td>H</td>\n",
       "      <td>Wichita</td>\n",
       "      <td>KS</td>\n",
       "      <td>False</td>\n",
       "      <td>other</td>\n",
       "      <td>Not fleeing</td>\n",
       "      <td>False</td>\n",
       "    </tr>\n",
       "    <tr>\n",
       "      <th>3</th>\n",
       "      <td>8</td>\n",
       "      <td>Matthew Hoffman</td>\n",
       "      <td>04/01/15</td>\n",
       "      <td>shot</td>\n",
       "      <td>toy weapon</td>\n",
       "      <td>32.0</td>\n",
       "      <td>M</td>\n",
       "      <td>W</td>\n",
       "      <td>San Francisco</td>\n",
       "      <td>CA</td>\n",
       "      <td>True</td>\n",
       "      <td>attack</td>\n",
       "      <td>Not fleeing</td>\n",
       "      <td>False</td>\n",
       "    </tr>\n",
       "    <tr>\n",
       "      <th>4</th>\n",
       "      <td>9</td>\n",
       "      <td>Michael Rodriguez</td>\n",
       "      <td>04/01/15</td>\n",
       "      <td>shot</td>\n",
       "      <td>nail gun</td>\n",
       "      <td>39.0</td>\n",
       "      <td>M</td>\n",
       "      <td>H</td>\n",
       "      <td>Evans</td>\n",
       "      <td>CO</td>\n",
       "      <td>False</td>\n",
       "      <td>attack</td>\n",
       "      <td>Not fleeing</td>\n",
       "      <td>False</td>\n",
       "    </tr>\n",
       "  </tbody>\n",
       "</table>\n",
       "</div>"
      ],
      "text/plain": [
       "   id                name      date   manner_of_death       armed   age gender race           city state  signs_of_mental_illness threat_level         flee  body_camera\n",
       "0   3          Tim Elliot  02/01/15              shot         gun  53.0      M    A        Shelton    WA                     True       attack  Not fleeing        False\n",
       "1   4    Lewis Lee Lembke  02/01/15              shot         gun  47.0      M    W          Aloha    OR                    False       attack  Not fleeing        False\n",
       "2   5  John Paul Quintero  03/01/15  shot and Tasered     unarmed  23.0      M    H        Wichita    KS                    False        other  Not fleeing        False\n",
       "3   8     Matthew Hoffman  04/01/15              shot  toy weapon  32.0      M    W  San Francisco    CA                     True       attack  Not fleeing        False\n",
       "4   9   Michael Rodriguez  04/01/15              shot    nail gun  39.0      M    H          Evans    CO                    False       attack  Not fleeing        False"
      ]
     },
     "execution_count": 3,
     "metadata": {},
     "output_type": "execute_result"
    }
   ],
   "source": [
    "df = pd.read_csv('/kaggle/input/fatal-police-shootings-in-the-us/PoliceKillingsUS.csv', encoding='cp1252')\n",
    "df.head()"
   ]
  },
  {
   "cell_type": "markdown",
   "id": "c9a89e4c",
   "metadata": {
    "papermill": {
     "duration": 0.006489,
     "end_time": "2023-02-26T10:56:29.534938",
     "exception": false,
     "start_time": "2023-02-26T10:56:29.528449",
     "status": "completed"
    },
    "tags": []
   },
   "source": [
    "# **Getting to know the dataset.**"
   ]
  },
  {
   "cell_type": "code",
   "execution_count": 4,
   "id": "0cb5cfa4",
   "metadata": {
    "execution": {
     "iopub.execute_input": "2023-02-26T10:56:29.550822Z",
     "iopub.status.busy": "2023-02-26T10:56:29.549954Z",
     "iopub.status.idle": "2023-02-26T10:56:29.578294Z",
     "shell.execute_reply": "2023-02-26T10:56:29.576684Z"
    },
    "papermill": {
     "duration": 0.040817,
     "end_time": "2023-02-26T10:56:29.582467",
     "exception": false,
     "start_time": "2023-02-26T10:56:29.541650",
     "status": "completed"
    },
    "tags": []
   },
   "outputs": [
    {
     "name": "stdout",
     "output_type": "stream",
     "text": [
      "<class 'pandas.core.frame.DataFrame'>\n",
      "RangeIndex: 2535 entries, 0 to 2534\n",
      "Data columns (total 14 columns):\n",
      " #   Column                   Non-Null Count  Dtype  \n",
      "---  ------                   --------------  -----  \n",
      " 0   id                       2535 non-null   int64  \n",
      " 1   name                     2535 non-null   object \n",
      " 2   date                     2535 non-null   object \n",
      " 3   manner_of_death          2535 non-null   object \n",
      " 4   armed                    2526 non-null   object \n",
      " 5   age                      2458 non-null   float64\n",
      " 6   gender                   2535 non-null   object \n",
      " 7   race                     2340 non-null   object \n",
      " 8   city                     2535 non-null   object \n",
      " 9   state                    2535 non-null   object \n",
      " 10  signs_of_mental_illness  2535 non-null   bool   \n",
      " 11  threat_level             2535 non-null   object \n",
      " 12  flee                     2470 non-null   object \n",
      " 13  body_camera              2535 non-null   bool   \n",
      "dtypes: bool(2), float64(1), int64(1), object(10)\n",
      "memory usage: 242.7+ KB\n"
     ]
    }
   ],
   "source": [
    "df.info()"
   ]
  },
  {
   "cell_type": "code",
   "execution_count": 5,
   "id": "c2a2e9dd",
   "metadata": {
    "execution": {
     "iopub.execute_input": "2023-02-26T10:56:29.599446Z",
     "iopub.status.busy": "2023-02-26T10:56:29.598995Z",
     "iopub.status.idle": "2023-02-26T10:56:29.606977Z",
     "shell.execute_reply": "2023-02-26T10:56:29.605527Z"
    },
    "papermill": {
     "duration": 0.019896,
     "end_time": "2023-02-26T10:56:29.609868",
     "exception": false,
     "start_time": "2023-02-26T10:56:29.589972",
     "status": "completed"
    },
    "tags": []
   },
   "outputs": [
    {
     "data": {
      "text/plain": [
       "(2535, 14)"
      ]
     },
     "execution_count": 5,
     "metadata": {},
     "output_type": "execute_result"
    }
   ],
   "source": [
    "df.shape"
   ]
  },
  {
   "cell_type": "markdown",
   "id": "ac3e46f9",
   "metadata": {
    "papermill": {
     "duration": 0.006937,
     "end_time": "2023-02-26T10:56:29.628141",
     "exception": false,
     "start_time": "2023-02-26T10:56:29.621204",
     "status": "completed"
    },
    "tags": []
   },
   "source": [
    "# **Classifying variables.**"
   ]
  },
  {
   "cell_type": "code",
   "execution_count": 6,
   "id": "d0334e37",
   "metadata": {
    "execution": {
     "iopub.execute_input": "2023-02-26T10:56:29.644339Z",
     "iopub.status.busy": "2023-02-26T10:56:29.643861Z",
     "iopub.status.idle": "2023-02-26T10:56:29.676447Z",
     "shell.execute_reply": "2023-02-26T10:56:29.674939Z"
    },
    "papermill": {
     "duration": 0.044001,
     "end_time": "2023-02-26T10:56:29.679202",
     "exception": false,
     "start_time": "2023-02-26T10:56:29.635201",
     "status": "completed"
    },
    "tags": []
   },
   "outputs": [
    {
     "name": "stdout",
     "output_type": "stream",
     "text": [
      "Observations: 2535\n",
      "Veriable: 14\n",
      "cat_cols: 9\n",
      "num_cols: 2\n",
      "cat_but_car: 3\n",
      "num_but_cat: 2\n"
     ]
    },
    {
     "data": {
      "text/plain": [
       "['name', 'date', 'city']"
      ]
     },
     "execution_count": 6,
     "metadata": {},
     "output_type": "execute_result"
    }
   ],
   "source": [
    "for col in df.columns:\n",
    "  if df[col].dtypes == \"bool\":\n",
    "    df[col]= df[col].astype(int)\n",
    "def grab_col_names(data_frame, col_th=10, car_th=100):\n",
    "    \n",
    "    cat_col=[ col for col in df.columns if str(df[col].dtype) in [\"category\",\"object\",\"bool\"]]\n",
    "    num_but_cat=[col for col in df.columns if df[col].nunique() < col_th and df[col].dtypes in [\"int64\",\"float\"]]\n",
    "    cat_col= cat_col + num_but_cat\n",
    "    cat_but_car=[col for col in cat_col if df[col].nunique() > car_th and str(df[col].dtypes) in [\"category\",\"object\"]]\n",
    "    cat_col=[col for col in cat_col if col not in cat_but_car]\n",
    "    num_col= [col for col in df.columns if df[col].dtypes in [\"int\",\"float\"]]\n",
    "    num_col=[col for col in num_col if col not in cat_col]\n",
    "    print(f\"Observations: {data_frame.shape[0]}\")\n",
    "    print(f\"Veriable: {data_frame.shape[1]}\")\n",
    "    print(f\"cat_cols: {len(cat_col)}\")\n",
    "    print(f\"num_cols: {len(num_col)}\")\n",
    "    print(f\"cat_but_car: {len(cat_but_car)}\")\n",
    "    print(f\"num_but_cat: {len(num_but_cat)}\")\n",
    "    return cat_col, num_col, cat_but_car\n",
    "\n",
    "cat_col, num_col, cat_but_car=grab_col_names(df)\n",
    "cat_but_car"
   ]
  },
  {
   "cell_type": "markdown",
   "id": "bf905912",
   "metadata": {
    "papermill": {
     "duration": 0.00725,
     "end_time": "2023-02-26T10:56:29.693926",
     "exception": false,
     "start_time": "2023-02-26T10:56:29.686676",
     "status": "completed"
    },
    "tags": []
   },
   "source": [
    "# **Analysis and visualization according to variable types.**"
   ]
  },
  {
   "cell_type": "code",
   "execution_count": 7,
   "id": "ef1a26eb",
   "metadata": {
    "execution": {
     "iopub.execute_input": "2023-02-26T10:56:29.710396Z",
     "iopub.status.busy": "2023-02-26T10:56:29.709700Z",
     "iopub.status.idle": "2023-02-26T10:56:32.787579Z",
     "shell.execute_reply": "2023-02-26T10:56:32.785924Z"
    },
    "papermill": {
     "duration": 3.08954,
     "end_time": "2023-02-26T10:56:32.790734",
     "exception": false,
     "start_time": "2023-02-26T10:56:29.701194",
     "status": "completed"
    },
    "tags": []
   },
   "outputs": [
    {
     "name": "stdout",
     "output_type": "stream",
     "text": [
      "###########################SUMMARY###########################\n",
      "                  manner_of_death     Ratio\n",
      "shot                         2363  93.21499\n",
      "shot and Tasered              172   6.78501\n"
     ]
    },
    {
     "data": {
      "image/png": "[encoded data removed]",
      "text/plain": [
       "<Figure size 640x480 with 1 Axes>"
      ]
     },
     "metadata": {},
     "output_type": "display_data"
    },
    {
     "name": "stdout",
     "output_type": "stream",
     "text": [
      "###########################SUMMARY###########################\n",
      "              armed      Ratio\n",
      "gun            1398  55.147929\n",
      "knife           373  14.714004\n",
      "vehicle         177   6.982249\n",
      "unarmed         171   6.745562\n",
      "undetermined    117   4.615385\n",
      "...             ...        ...\n",
      "hand torch        1   0.039448\n",
      "garden tool       1   0.039448\n",
      "pole              1   0.039448\n",
      "pick-axe          1   0.039448\n",
      "pen               1   0.039448\n",
      "\n",
      "[68 rows x 2 columns]\n"
     ]
    },
    {
     "data": {
      "image/png": "[encoded data removed]",
      "text/plain": [
       "<Figure size 640x480 with 1 Axes>"
      ]
     },
     "metadata": {},
     "output_type": "display_data"
    },
    {
     "name": "stdout",
     "output_type": "stream",
     "text": [
      "###########################SUMMARY###########################\n",
      "   gender      Ratio\n",
      "M    2428  95.779093\n",
      "F     107   4.220907\n"
     ]
    },
    {
     "data": {
      "image/png": "[encoded data removed]",
      "text/plain": [
       "<Figure size 640x480 with 1 Axes>"
      ]
     },
     "metadata": {},
     "output_type": "display_data"
    },
    {
     "name": "stdout",
     "output_type": "stream",
     "text": [
      "###########################SUMMARY###########################\n",
      "   race      Ratio\n",
      "W  1201  47.376726\n",
      "B   618  24.378698\n",
      "H   423  16.686391\n",
      "A    39   1.538462\n",
      "N    31   1.222880\n",
      "O    28   1.104536\n"
     ]
    },
    {
     "data": {
      "image/png": "[encoded data removed]",
      "text/plain": [
       "<Figure size 640x480 with 1 Axes>"
      ]
     },
     "metadata": {},
     "output_type": "display_data"
    },
    {
     "name": "stdout",
     "output_type": "stream",
     "text": [
      "###########################SUMMARY###########################\n",
      "    state      Ratio\n",
      "CA    424  16.725838\n",
      "TX    225   8.875740\n",
      "FL    154   6.074951\n",
      "AZ    118   4.654832\n",
      "OH     79   3.116371\n",
      "OK     78   3.076923\n",
      "CO     74   2.919132\n",
      "GA     70   2.761341\n",
      "NC     69   2.721893\n",
      "MO     64   2.524655\n",
      "IL     62   2.445759\n",
      "WA     62   2.445759\n",
      "TN     59   2.327416\n",
      "LA     57   2.248521\n",
      "PA     51   2.011834\n",
      "NM     51   2.011834\n",
      "AL     50   1.972387\n",
      "VA     47   1.854043\n",
      "NY     45   1.775148\n",
      "SC     44   1.735700\n",
      "IN     43   1.696252\n",
      "WI     43   1.696252\n",
      "KY     43   1.696252\n",
      "NV     42   1.656805\n",
      "OR     38   1.499014\n",
      "MD     38   1.499014\n",
      "MI     37   1.459566\n",
      "NJ     35   1.380671\n",
      "MN     32   1.262327\n",
      "WV     27   1.065089\n",
      "AR     26   1.025641\n",
      "KS     24   0.946746\n",
      "MS     23   0.907298\n",
      "UT     23   0.907298\n",
      "MA     22   0.867850\n",
      "ID     17   0.670611\n",
      "AK     15   0.591716\n",
      "NE     15   0.591716\n",
      "ME     13   0.512821\n",
      "IA     12   0.473373\n",
      "MT     11   0.433925\n",
      "HI     11   0.433925\n",
      "DC     11   0.433925\n",
      "SD     10   0.394477\n",
      "CT      9   0.355030\n",
      "DE      8   0.315582\n",
      "WY      8   0.315582\n",
      "NH      7   0.276134\n",
      "ND      4   0.157791\n",
      "VT      3   0.118343\n",
      "RI      2   0.078895\n"
     ]
    },
    {
     "data": {
      "image/png": "[encoded data removed]",
      "text/plain": [
       "<Figure size 640x480 with 1 Axes>"
      ]
     },
     "metadata": {},
     "output_type": "display_data"
    },
    {
     "name": "stdout",
     "output_type": "stream",
     "text": [
      "###########################SUMMARY###########################\n",
      "              threat_level      Ratio\n",
      "attack                1611  63.550296\n",
      "other                  766  30.216963\n",
      "undetermined           158   6.232742\n"
     ]
    },
    {
     "data": {
      "image/png": "[encoded data removed]",
      "text/plain": [
       "<Figure size 640x480 with 1 Axes>"
      ]
     },
     "metadata": {},
     "output_type": "display_data"
    },
    {
     "name": "stdout",
     "output_type": "stream",
     "text": [
      "###########################SUMMARY###########################\n",
      "             flee      Ratio\n",
      "Not fleeing  1695  66.863905\n",
      "Car           385  15.187377\n",
      "Foot          294  11.597633\n",
      "Other          96   3.786982\n"
     ]
    },
    {
     "data": {
      "image/png": "[encoded data removed]",
      "text/plain": [
       "<Figure size 640x480 with 1 Axes>"
      ]
     },
     "metadata": {},
     "output_type": "display_data"
    },
    {
     "name": "stdout",
     "output_type": "stream",
     "text": [
      "###########################SUMMARY###########################\n",
      "   signs_of_mental_illness      Ratio\n",
      "0                     1902  75.029586\n",
      "1                      633  24.970414\n"
     ]
    },
    {
     "data": {
      "image/png": "[encoded data removed]",
      "text/plain": [
       "<Figure size 640x480 with 1 Axes>"
      ]
     },
     "metadata": {},
     "output_type": "display_data"
    },
    {
     "name": "stdout",
     "output_type": "stream",
     "text": [
      "###########################SUMMARY###########################\n",
      "   body_camera      Ratio\n",
      "0         2264  89.309665\n",
      "1          271  10.690335\n"
     ]
    },
    {
     "data": {
      "image/png": "[encoded data removed]",
      "text/plain": [
       "<Figure size 640x480 with 1 Axes>"
      ]
     },
     "metadata": {},
     "output_type": "display_data"
    }
   ],
   "source": [
    "def cat_summary(data_frame, col_name, plot=False):\n",
    "  print(\"###########################SUMMARY###########################\")\n",
    "  print(pd.DataFrame({col_name: data_frame[col_name].value_counts(),\"Ratio\": 100 * data_frame[col_name].value_counts() / len(data_frame)}))\n",
    "  if plot:\n",
    "    sns.countplot(x=data_frame[col_name], data=data_frame)\n",
    "    plt.show(block=True)\n",
    "for col in cat_col:\n",
    "  if df[col].dtypes == \"bool\":\n",
    "    df[col]= df[col].astype(int)\n",
    "    cat_summary(df, col, plot=True)\n",
    "  else:\n",
    "    cat_summary(df, col, plot=True)"
   ]
  },
  {
   "cell_type": "code",
   "execution_count": 8,
   "id": "223f7b16",
   "metadata": {
    "execution": {
     "iopub.execute_input": "2023-02-26T10:56:32.817344Z",
     "iopub.status.busy": "2023-02-26T10:56:32.816542Z",
     "iopub.status.idle": "2023-02-26T10:56:33.340155Z",
     "shell.execute_reply": "2023-02-26T10:56:33.339132Z"
    },
    "papermill": {
     "duration": 0.538977,
     "end_time": "2023-02-26T10:56:33.342567",
     "exception": false,
     "start_time": "2023-02-26T10:56:32.803590",
     "status": "completed"
    },
    "tags": []
   },
   "outputs": [
    {
     "name": "stdout",
     "output_type": "stream",
     "text": [
      "#######################SUMMARY#######################\n",
      "count    2535.000000\n",
      "mean     1445.731755\n",
      "std       794.259490\n",
      "min         3.000000\n",
      "25%       768.500000\n",
      "50%      1453.000000\n",
      "75%      2126.500000\n",
      "max      2822.000000\n",
      "Name: id, dtype: float64\n"
     ]
    },
    {
     "data": {
      "image/png": "[encoded data removed]",
      "text/plain": [
       "<Figure size 640x480 with 1 Axes>"
      ]
     },
     "metadata": {},
     "output_type": "display_data"
    },
    {
     "name": "stdout",
     "output_type": "stream",
     "text": [
      "#######################SUMMARY#######################\n",
      "count    2458.000000\n",
      "mean       36.605370\n",
      "std        13.030774\n",
      "min         6.000000\n",
      "25%        26.000000\n",
      "50%        34.000000\n",
      "75%        45.000000\n",
      "max        91.000000\n",
      "Name: age, dtype: float64\n"
     ]
    },
    {
     "data": {
      "image/png": "[encoded data removed]",
      "text/plain": [
       "<Figure size 640x480 with 1 Axes>"
      ]
     },
     "metadata": {},
     "output_type": "display_data"
    }
   ],
   "source": [
    "def num_summary(data_frame, num_cols, plot=False):\n",
    "  print(\"#######################SUMMARY#######################\")\n",
    "  print(data_frame[num_cols].describe().T)\n",
    "  if plot:\n",
    "    data_frame[num_cols].hist()\n",
    "    plt.xlabel(num_cols)\n",
    "    plt.title(num_cols)\n",
    "    plt.show(block=True)\n",
    "for col in num_col:\n",
    "  num_summary(df, col, plot=True)"
   ]
  },
  {
   "cell_type": "markdown",
   "id": "876cda61",
   "metadata": {
    "papermill": {
     "duration": 0.012019,
     "end_time": "2023-02-26T10:56:33.366734",
     "exception": false,
     "start_time": "2023-02-26T10:56:33.354715",
     "status": "completed"
    },
    "tags": []
   },
   "source": [
    "# **Variable deletion.**"
   ]
  },
  {
   "cell_type": "code",
   "execution_count": 9,
   "id": "997e4d1a",
   "metadata": {
    "execution": {
     "iopub.execute_input": "2023-02-26T10:56:33.392392Z",
     "iopub.status.busy": "2023-02-26T10:56:33.391934Z",
     "iopub.status.idle": "2023-02-26T10:56:33.400554Z",
     "shell.execute_reply": "2023-02-26T10:56:33.399261Z"
    },
    "papermill": {
     "duration": 0.024908,
     "end_time": "2023-02-26T10:56:33.403424",
     "exception": false,
     "start_time": "2023-02-26T10:56:33.378516",
     "status": "completed"
    },
    "tags": []
   },
   "outputs": [],
   "source": [
    "drop=[\"id\",\"date\",\"name\",\"city\"]\n",
    "df=df.drop(drop, axis=1)"
   ]
  },
  {
   "cell_type": "code",
   "execution_count": 10,
   "id": "13a3beb9",
   "metadata": {
    "execution": {
     "iopub.execute_input": "2023-02-26T10:56:33.428758Z",
     "iopub.status.busy": "2023-02-26T10:56:33.428318Z",
     "iopub.status.idle": "2023-02-26T10:56:33.445365Z",
     "shell.execute_reply": "2023-02-26T10:56:33.443950Z"
    },
    "papermill": {
     "duration": 0.032653,
     "end_time": "2023-02-26T10:56:33.447889",
     "exception": false,
     "start_time": "2023-02-26T10:56:33.415236",
     "status": "completed"
    },
    "tags": []
   },
   "outputs": [
    {
     "data": {
      "text/html": [
       "<div>\n",
       "<style scoped>\n",
       "    .dataframe tbody tr th:only-of-type {\n",
       "        vertical-align: middle;\n",
       "    }\n",
       "\n",
       "    .dataframe tbody tr th {\n",
       "        vertical-align: top;\n",
       "    }\n",
       "\n",
       "    .dataframe thead th {\n",
       "        text-align: right;\n",
       "    }\n",
       "</style>\n",
       "<table border=\"1\" class=\"dataframe\">\n",
       "  <thead>\n",
       "    <tr style=\"text-align: right;\">\n",
       "      <th></th>\n",
       "      <th>manner_of_death</th>\n",
       "      <th>armed</th>\n",
       "      <th>age</th>\n",
       "      <th>gender</th>\n",
       "      <th>race</th>\n",
       "      <th>state</th>\n",
       "      <th>signs_of_mental_illness</th>\n",
       "      <th>threat_level</th>\n",
       "      <th>flee</th>\n",
       "      <th>body_camera</th>\n",
       "    </tr>\n",
       "  </thead>\n",
       "  <tbody>\n",
       "    <tr>\n",
       "      <th>0</th>\n",
       "      <td>shot</td>\n",
       "      <td>gun</td>\n",
       "      <td>53.0</td>\n",
       "      <td>M</td>\n",
       "      <td>A</td>\n",
       "      <td>WA</td>\n",
       "      <td>1</td>\n",
       "      <td>attack</td>\n",
       "      <td>Not fleeing</td>\n",
       "      <td>0</td>\n",
       "    </tr>\n",
       "    <tr>\n",
       "      <th>1</th>\n",
       "      <td>shot</td>\n",
       "      <td>gun</td>\n",
       "      <td>47.0</td>\n",
       "      <td>M</td>\n",
       "      <td>W</td>\n",
       "      <td>OR</td>\n",
       "      <td>0</td>\n",
       "      <td>attack</td>\n",
       "      <td>Not fleeing</td>\n",
       "      <td>0</td>\n",
       "    </tr>\n",
       "    <tr>\n",
       "      <th>2</th>\n",
       "      <td>shot and Tasered</td>\n",
       "      <td>unarmed</td>\n",
       "      <td>23.0</td>\n",
       "      <td>M</td>\n",
       "      <td>H</td>\n",
       "      <td>KS</td>\n",
       "      <td>0</td>\n",
       "      <td>other</td>\n",
       "      <td>Not fleeing</td>\n",
       "      <td>0</td>\n",
       "    </tr>\n",
       "    <tr>\n",
       "      <th>3</th>\n",
       "      <td>shot</td>\n",
       "      <td>toy weapon</td>\n",
       "      <td>32.0</td>\n",
       "      <td>M</td>\n",
       "      <td>W</td>\n",
       "      <td>CA</td>\n",
       "      <td>1</td>\n",
       "      <td>attack</td>\n",
       "      <td>Not fleeing</td>\n",
       "      <td>0</td>\n",
       "    </tr>\n",
       "    <tr>\n",
       "      <th>4</th>\n",
       "      <td>shot</td>\n",
       "      <td>nail gun</td>\n",
       "      <td>39.0</td>\n",
       "      <td>M</td>\n",
       "      <td>H</td>\n",
       "      <td>CO</td>\n",
       "      <td>0</td>\n",
       "      <td>attack</td>\n",
       "      <td>Not fleeing</td>\n",
       "      <td>0</td>\n",
       "    </tr>\n",
       "  </tbody>\n",
       "</table>\n",
       "</div>"
      ],
      "text/plain": [
       "    manner_of_death       armed   age gender race state  signs_of_mental_illness threat_level         flee  body_camera\n",
       "0              shot         gun  53.0      M    A    WA                        1       attack  Not fleeing            0\n",
       "1              shot         gun  47.0      M    W    OR                        0       attack  Not fleeing            0\n",
       "2  shot and Tasered     unarmed  23.0      M    H    KS                        0        other  Not fleeing            0\n",
       "3              shot  toy weapon  32.0      M    W    CA                        1       attack  Not fleeing            0\n",
       "4              shot    nail gun  39.0      M    H    CO                        0       attack  Not fleeing            0"
      ]
     },
     "execution_count": 10,
     "metadata": {},
     "output_type": "execute_result"
    }
   ],
   "source": [
    "df.head()"
   ]
  },
  {
   "cell_type": "markdown",
   "id": "49567946",
   "metadata": {
    "papermill": {
     "duration": 0.01153,
     "end_time": "2023-02-26T10:56:33.471144",
     "exception": false,
     "start_time": "2023-02-26T10:56:33.459614",
     "status": "completed"
    },
    "tags": []
   },
   "source": [
    "# **Categorical variable analysis.**"
   ]
  },
  {
   "cell_type": "code",
   "execution_count": 11,
   "id": "82ddf90c",
   "metadata": {
    "execution": {
     "iopub.execute_input": "2023-02-26T10:56:33.498030Z",
     "iopub.status.busy": "2023-02-26T10:56:33.496989Z",
     "iopub.status.idle": "2023-02-26T10:56:33.528500Z",
     "shell.execute_reply": "2023-02-26T10:56:33.526123Z"
    },
    "papermill": {
     "duration": 0.047864,
     "end_time": "2023-02-26T10:56:33.531460",
     "exception": false,
     "start_time": "2023-02-26T10:56:33.483596",
     "status": "completed"
    },
    "tags": []
   },
   "outputs": [
    {
     "name": "stdout",
     "output_type": "stream",
     "text": [
      "                  TARGET_MEAN\n",
      "manner_of_death              \n",
      "shot                36.574672\n",
      "shot and Tasered    37.023810\n",
      "                         TARGET_MEAN\n",
      "armed                               \n",
      "Taser                      44.333333\n",
      "air conditioner            41.000000\n",
      "ax                         42.000000\n",
      "baseball bat               37.250000\n",
      "baseball bat and bottle    29.000000\n",
      "...                              ...\n",
      "toy weapon                 35.116505\n",
      "unarmed                    30.882353\n",
      "undetermined               34.205357\n",
      "unknown weapon             31.750000\n",
      "vehicle                    33.168605\n",
      "\n",
      "[68 rows x 1 columns]\n",
      "        TARGET_MEAN\n",
      "gender             \n",
      "F         36.567308\n",
      "M         36.607052\n",
      "      TARGET_MEAN\n",
      "race             \n",
      "A       36.605263\n",
      "B       31.635468\n",
      "H       32.995157\n",
      "N       30.451613\n",
      "O       33.071429\n",
      "W       40.046980\n",
      "       TARGET_MEAN\n",
      "state             \n",
      "AK       33.066667\n",
      "AL       37.893617\n",
      "AR       40.153846\n",
      "AZ       34.840708\n",
      "CA       34.606436\n",
      "CO       34.800000\n",
      "CT       37.333333\n",
      "DC       38.181818\n",
      "DE       34.375000\n",
      "FL       37.614865\n",
      "GA       36.235294\n",
      "HI       38.636364\n",
      "IA       32.416667\n",
      "ID       42.533333\n",
      "IL       32.459016\n",
      "IN       37.738095\n",
      "KS       36.791667\n",
      "KY       40.476190\n",
      "LA       35.481481\n",
      "MA       39.363636\n",
      "MD       32.789474\n",
      "ME       40.461538\n",
      "MI       36.162162\n",
      "MN       36.718750\n",
      "MO       36.625000\n",
      "MS       37.913043\n",
      "MT       35.090909\n",
      "NC       38.808824\n",
      "ND       31.250000\n",
      "NE       36.000000\n",
      "NH       34.142857\n",
      "NJ       35.735294\n",
      "NM       34.938776\n",
      "NV       38.589744\n",
      "NY       37.840909\n",
      "OH       35.131579\n",
      "OK       40.000000\n",
      "OR       40.351351\n",
      "PA       37.098039\n",
      "RI       52.000000\n",
      "SC       40.255814\n",
      "SD       38.600000\n",
      "TN       39.118644\n",
      "TX       35.581395\n",
      "UT       34.739130\n",
      "VA       37.891304\n",
      "VT       53.666667\n",
      "WA       37.616667\n",
      "WI       37.674419\n",
      "WV       44.576923\n",
      "WY       39.625000\n",
      "              TARGET_MEAN\n",
      "threat_level             \n",
      "attack          37.154191\n",
      "other           35.982550\n",
      "undetermined    33.980000\n",
      "             TARGET_MEAN\n",
      "flee                    \n",
      "Car            33.911765\n",
      "Foot           30.972222\n",
      "Not fleeing    38.334753\n",
      "Other          33.239130\n",
      "                         TARGET_MEAN\n",
      "signs_of_mental_illness             \n",
      "0                          35.718869\n",
      "1                          39.239095\n",
      "             TARGET_MEAN\n",
      "body_camera             \n",
      "0              36.730471\n",
      "1              35.587361\n"
     ]
    }
   ],
   "source": [
    "def cat_anlz(dataframe, target, cat_col):\n",
    "    print(pd.DataFrame({\"TARGET_MEAN\": dataframe.groupby(cat_col)[target].mean()}))\n",
    "\n",
    "for col in cat_col:\n",
    "    cat_anlz(df, \"age\", col)\n"
   ]
  },
  {
   "cell_type": "markdown",
   "id": "d05eafbd",
   "metadata": {
    "papermill": {
     "duration": 0.011666,
     "end_time": "2023-02-26T10:56:33.555331",
     "exception": false,
     "start_time": "2023-02-26T10:56:33.543665",
     "status": "completed"
    },
    "tags": []
   },
   "source": [
    "# **Missing data editing.**"
   ]
  },
  {
   "cell_type": "code",
   "execution_count": 12,
   "id": "41f7486c",
   "metadata": {
    "execution": {
     "iopub.execute_input": "2023-02-26T10:56:33.581587Z",
     "iopub.status.busy": "2023-02-26T10:56:33.581142Z",
     "iopub.status.idle": "2023-02-26T10:56:33.592626Z",
     "shell.execute_reply": "2023-02-26T10:56:33.591269Z"
    },
    "papermill": {
     "duration": 0.028048,
     "end_time": "2023-02-26T10:56:33.595446",
     "exception": false,
     "start_time": "2023-02-26T10:56:33.567398",
     "status": "completed"
    },
    "tags": []
   },
   "outputs": [
    {
     "data": {
      "text/plain": [
       "manner_of_death              0\n",
       "armed                        9\n",
       "age                         77\n",
       "gender                       0\n",
       "race                       195\n",
       "state                        0\n",
       "signs_of_mental_illness      0\n",
       "threat_level                 0\n",
       "flee                        65\n",
       "body_camera                  0\n",
       "dtype: int64"
      ]
     },
     "execution_count": 12,
     "metadata": {},
     "output_type": "execute_result"
    }
   ],
   "source": [
    "df.isnull().sum()"
   ]
  },
  {
   "cell_type": "code",
   "execution_count": 13,
   "id": "97d86ae4",
   "metadata": {
    "execution": {
     "iopub.execute_input": "2023-02-26T10:56:33.621886Z",
     "iopub.status.busy": "2023-02-26T10:56:33.621454Z",
     "iopub.status.idle": "2023-02-26T10:56:33.629766Z",
     "shell.execute_reply": "2023-02-26T10:56:33.628762Z"
    },
    "papermill": {
     "duration": 0.024404,
     "end_time": "2023-02-26T10:56:33.632301",
     "exception": false,
     "start_time": "2023-02-26T10:56:33.607897",
     "status": "completed"
    },
    "tags": []
   },
   "outputs": [],
   "source": [
    "ort=df[[\"age\"]].mean()"
   ]
  },
  {
   "cell_type": "code",
   "execution_count": 14,
   "id": "92147c09",
   "metadata": {
    "execution": {
     "iopub.execute_input": "2023-02-26T10:56:33.659849Z",
     "iopub.status.busy": "2023-02-26T10:56:33.658904Z",
     "iopub.status.idle": "2023-02-26T10:56:33.667112Z",
     "shell.execute_reply": "2023-02-26T10:56:33.665741Z"
    },
    "papermill": {
     "duration": 0.0247,
     "end_time": "2023-02-26T10:56:33.669677",
     "exception": false,
     "start_time": "2023-02-26T10:56:33.644977",
     "status": "completed"
    },
    "tags": []
   },
   "outputs": [],
   "source": [
    "df[\"age\"]= df[[\"age\"]].fillna(ort)"
   ]
  },
  {
   "cell_type": "code",
   "execution_count": 15,
   "id": "c3bada54",
   "metadata": {
    "execution": {
     "iopub.execute_input": "2023-02-26T10:56:33.696256Z",
     "iopub.status.busy": "2023-02-26T10:56:33.695803Z",
     "iopub.status.idle": "2023-02-26T10:56:33.710102Z",
     "shell.execute_reply": "2023-02-26T10:56:33.709119Z"
    },
    "papermill": {
     "duration": 0.030623,
     "end_time": "2023-02-26T10:56:33.712542",
     "exception": false,
     "start_time": "2023-02-26T10:56:33.681919",
     "status": "completed"
    },
    "tags": []
   },
   "outputs": [
    {
     "data": {
      "text/plain": [
       "gender\n",
       "M         2428\n",
       "F          107\n",
       "dtype: int64"
      ]
     },
     "execution_count": 15,
     "metadata": {},
     "output_type": "execute_result"
    }
   ],
   "source": [
    "df[[\"gender\"]].value_counts()"
   ]
  },
  {
   "cell_type": "markdown",
   "id": "13cf0523",
   "metadata": {
    "papermill": {
     "duration": 0.011746,
     "end_time": "2023-02-26T10:56:33.736587",
     "exception": false,
     "start_time": "2023-02-26T10:56:33.724841",
     "status": "completed"
    },
    "tags": []
   },
   "source": [
    "# **Label encoder.**"
   ]
  },
  {
   "cell_type": "code",
   "execution_count": 16,
   "id": "1d2ae33f",
   "metadata": {
    "execution": {
     "iopub.execute_input": "2023-02-26T10:56:33.763618Z",
     "iopub.status.busy": "2023-02-26T10:56:33.763154Z",
     "iopub.status.idle": "2023-02-26T10:56:33.769920Z",
     "shell.execute_reply": "2023-02-26T10:56:33.768117Z"
    },
    "papermill": {
     "duration": 0.024752,
     "end_time": "2023-02-26T10:56:33.773603",
     "exception": false,
     "start_time": "2023-02-26T10:56:33.748851",
     "status": "completed"
    },
    "tags": []
   },
   "outputs": [
    {
     "name": "stdout",
     "output_type": "stream",
     "text": [
      "['M' 'M' 'M' ... 'M' 'M' 'M']\n"
     ]
    }
   ],
   "source": [
    "gender = df[\"gender\"].values\n",
    "print(gender)"
   ]
  },
  {
   "cell_type": "code",
   "execution_count": 17,
   "id": "f8bf4b4b",
   "metadata": {
    "execution": {
     "iopub.execute_input": "2023-02-26T10:56:33.801009Z",
     "iopub.status.busy": "2023-02-26T10:56:33.800602Z",
     "iopub.status.idle": "2023-02-26T10:56:33.816045Z",
     "shell.execute_reply": "2023-02-26T10:56:33.814580Z"
    },
    "papermill": {
     "duration": 0.032057,
     "end_time": "2023-02-26T10:56:33.818629",
     "exception": false,
     "start_time": "2023-02-26T10:56:33.786572",
     "status": "completed"
    },
    "tags": []
   },
   "outputs": [
    {
     "data": {
      "text/html": [
       "<div>\n",
       "<style scoped>\n",
       "    .dataframe tbody tr th:only-of-type {\n",
       "        vertical-align: middle;\n",
       "    }\n",
       "\n",
       "    .dataframe tbody tr th {\n",
       "        vertical-align: top;\n",
       "    }\n",
       "\n",
       "    .dataframe thead th {\n",
       "        text-align: right;\n",
       "    }\n",
       "</style>\n",
       "<table border=\"1\" class=\"dataframe\">\n",
       "  <thead>\n",
       "    <tr style=\"text-align: right;\">\n",
       "      <th></th>\n",
       "      <th>gender1</th>\n",
       "    </tr>\n",
       "  </thead>\n",
       "  <tbody>\n",
       "    <tr>\n",
       "      <th>0</th>\n",
       "      <td>1</td>\n",
       "    </tr>\n",
       "    <tr>\n",
       "      <th>1</th>\n",
       "      <td>1</td>\n",
       "    </tr>\n",
       "    <tr>\n",
       "      <th>2</th>\n",
       "      <td>1</td>\n",
       "    </tr>\n",
       "    <tr>\n",
       "      <th>3</th>\n",
       "      <td>1</td>\n",
       "    </tr>\n",
       "    <tr>\n",
       "      <th>4</th>\n",
       "      <td>1</td>\n",
       "    </tr>\n",
       "    <tr>\n",
       "      <th>...</th>\n",
       "      <td>...</td>\n",
       "    </tr>\n",
       "    <tr>\n",
       "      <th>2530</th>\n",
       "      <td>1</td>\n",
       "    </tr>\n",
       "    <tr>\n",
       "      <th>2531</th>\n",
       "      <td>1</td>\n",
       "    </tr>\n",
       "    <tr>\n",
       "      <th>2532</th>\n",
       "      <td>1</td>\n",
       "    </tr>\n",
       "    <tr>\n",
       "      <th>2533</th>\n",
       "      <td>1</td>\n",
       "    </tr>\n",
       "    <tr>\n",
       "      <th>2534</th>\n",
       "      <td>1</td>\n",
       "    </tr>\n",
       "  </tbody>\n",
       "</table>\n",
       "<p>2535 rows × 1 columns</p>\n",
       "</div>"
      ],
      "text/plain": [
       "      gender1\n",
       "0           1\n",
       "1           1\n",
       "2           1\n",
       "3           1\n",
       "4           1\n",
       "...       ...\n",
       "2530        1\n",
       "2531        1\n",
       "2532        1\n",
       "2533        1\n",
       "2534        1\n",
       "\n",
       "[2535 rows x 1 columns]"
      ]
     },
     "execution_count": 17,
     "metadata": {},
     "output_type": "execute_result"
    }
   ],
   "source": [
    "le = preprocessing.LabelEncoder()\n",
    "gender = le.fit_transform(df[\"gender\"])\n",
    "gender= pd.DataFrame(data=gender)\n",
    "gender.columns=[\"gender1\"]\n",
    "gender"
   ]
  },
  {
   "cell_type": "code",
   "execution_count": 18,
   "id": "fa10ad35",
   "metadata": {
    "execution": {
     "iopub.execute_input": "2023-02-26T10:56:33.847809Z",
     "iopub.status.busy": "2023-02-26T10:56:33.846406Z",
     "iopub.status.idle": "2023-02-26T10:56:33.854840Z",
     "shell.execute_reply": "2023-02-26T10:56:33.853547Z"
    },
    "papermill": {
     "duration": 0.02585,
     "end_time": "2023-02-26T10:56:33.857651",
     "exception": false,
     "start_time": "2023-02-26T10:56:33.831801",
     "status": "completed"
    },
    "tags": []
   },
   "outputs": [],
   "source": [
    "df1=pd.concat([df,gender],axis=1)"
   ]
  },
  {
   "cell_type": "code",
   "execution_count": 19,
   "id": "c24f6272",
   "metadata": {
    "execution": {
     "iopub.execute_input": "2023-02-26T10:56:33.886067Z",
     "iopub.status.busy": "2023-02-26T10:56:33.885141Z",
     "iopub.status.idle": "2023-02-26T10:56:33.893119Z",
     "shell.execute_reply": "2023-02-26T10:56:33.892029Z"
    },
    "papermill": {
     "duration": 0.025048,
     "end_time": "2023-02-26T10:56:33.895677",
     "exception": false,
     "start_time": "2023-02-26T10:56:33.870629",
     "status": "completed"
    },
    "tags": []
   },
   "outputs": [],
   "source": [
    "df1.drop(\"gender\",axis=1,inplace=True)"
   ]
  },
  {
   "cell_type": "code",
   "execution_count": 20,
   "id": "f85914d4",
   "metadata": {
    "execution": {
     "iopub.execute_input": "2023-02-26T10:56:33.923131Z",
     "iopub.status.busy": "2023-02-26T10:56:33.922669Z",
     "iopub.status.idle": "2023-02-26T10:56:33.939847Z",
     "shell.execute_reply": "2023-02-26T10:56:33.938476Z"
    },
    "papermill": {
     "duration": 0.034308,
     "end_time": "2023-02-26T10:56:33.942760",
     "exception": false,
     "start_time": "2023-02-26T10:56:33.908452",
     "status": "completed"
    },
    "tags": []
   },
   "outputs": [
    {
     "data": {
      "text/html": [
       "<div>\n",
       "<style scoped>\n",
       "    .dataframe tbody tr th:only-of-type {\n",
       "        vertical-align: middle;\n",
       "    }\n",
       "\n",
       "    .dataframe tbody tr th {\n",
       "        vertical-align: top;\n",
       "    }\n",
       "\n",
       "    .dataframe thead th {\n",
       "        text-align: right;\n",
       "    }\n",
       "</style>\n",
       "<table border=\"1\" class=\"dataframe\">\n",
       "  <thead>\n",
       "    <tr style=\"text-align: right;\">\n",
       "      <th></th>\n",
       "      <th>manner_of_death</th>\n",
       "      <th>armed</th>\n",
       "      <th>age</th>\n",
       "      <th>race</th>\n",
       "      <th>state</th>\n",
       "      <th>signs_of_mental_illness</th>\n",
       "      <th>threat_level</th>\n",
       "      <th>flee</th>\n",
       "      <th>body_camera</th>\n",
       "      <th>gender1</th>\n",
       "    </tr>\n",
       "  </thead>\n",
       "  <tbody>\n",
       "    <tr>\n",
       "      <th>0</th>\n",
       "      <td>shot</td>\n",
       "      <td>gun</td>\n",
       "      <td>53.0</td>\n",
       "      <td>A</td>\n",
       "      <td>WA</td>\n",
       "      <td>1</td>\n",
       "      <td>attack</td>\n",
       "      <td>Not fleeing</td>\n",
       "      <td>0</td>\n",
       "      <td>1</td>\n",
       "    </tr>\n",
       "    <tr>\n",
       "      <th>1</th>\n",
       "      <td>shot</td>\n",
       "      <td>gun</td>\n",
       "      <td>47.0</td>\n",
       "      <td>W</td>\n",
       "      <td>OR</td>\n",
       "      <td>0</td>\n",
       "      <td>attack</td>\n",
       "      <td>Not fleeing</td>\n",
       "      <td>0</td>\n",
       "      <td>1</td>\n",
       "    </tr>\n",
       "    <tr>\n",
       "      <th>2</th>\n",
       "      <td>shot and Tasered</td>\n",
       "      <td>unarmed</td>\n",
       "      <td>23.0</td>\n",
       "      <td>H</td>\n",
       "      <td>KS</td>\n",
       "      <td>0</td>\n",
       "      <td>other</td>\n",
       "      <td>Not fleeing</td>\n",
       "      <td>0</td>\n",
       "      <td>1</td>\n",
       "    </tr>\n",
       "    <tr>\n",
       "      <th>3</th>\n",
       "      <td>shot</td>\n",
       "      <td>toy weapon</td>\n",
       "      <td>32.0</td>\n",
       "      <td>W</td>\n",
       "      <td>CA</td>\n",
       "      <td>1</td>\n",
       "      <td>attack</td>\n",
       "      <td>Not fleeing</td>\n",
       "      <td>0</td>\n",
       "      <td>1</td>\n",
       "    </tr>\n",
       "    <tr>\n",
       "      <th>4</th>\n",
       "      <td>shot</td>\n",
       "      <td>nail gun</td>\n",
       "      <td>39.0</td>\n",
       "      <td>H</td>\n",
       "      <td>CO</td>\n",
       "      <td>0</td>\n",
       "      <td>attack</td>\n",
       "      <td>Not fleeing</td>\n",
       "      <td>0</td>\n",
       "      <td>1</td>\n",
       "    </tr>\n",
       "  </tbody>\n",
       "</table>\n",
       "</div>"
      ],
      "text/plain": [
       "    manner_of_death       armed   age race state  signs_of_mental_illness threat_level         flee  body_camera  gender1\n",
       "0              shot         gun  53.0    A    WA                        1       attack  Not fleeing            0        1\n",
       "1              shot         gun  47.0    W    OR                        0       attack  Not fleeing            0        1\n",
       "2  shot and Tasered     unarmed  23.0    H    KS                        0        other  Not fleeing            0        1\n",
       "3              shot  toy weapon  32.0    W    CA                        1       attack  Not fleeing            0        1\n",
       "4              shot    nail gun  39.0    H    CO                        0       attack  Not fleeing            0        1"
      ]
     },
     "execution_count": 20,
     "metadata": {},
     "output_type": "execute_result"
    }
   ],
   "source": [
    "df1.head()"
   ]
  }
 ],
 "metadata": {
  "kernelspec": {
   "display_name": "Python 3",
   "language": "python",
   "name": "python3"
  },
  "language_info": {
   "codemirror_mode": {
    "name": "ipython",
    "version": 3
   },
   "file_extension": ".py",
   "mimetype": "text/x-python",
   "name": "python",
   "nbconvert_exporter": "python",
   "pygments_lexer": "ipython3",
   "version": "3.7.12"
  },
  "papermill": {
   "default_parameters": {},
   "duration": 17.825425,
   "end_time": "2023-02-26T10:56:34.780391",
   "environment_variables": {},
   "exception": null,
   "input_path": "__notebook__.ipynb",
   "output_path": "__notebook__.ipynb",
   "parameters": {},
   "start_time": "2023-02-26T10:56:16.954966",
   "version": "2.4.0"
  }
 },
 "nbformat": 4,
 "nbformat_minor": 5
}
